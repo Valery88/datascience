{
 "cells": [
  {
   "cell_type": "code",
   "execution_count": 2,
   "id": "70218879",
   "metadata": {},
   "outputs": [
    {
     "name": "stdout",
     "output_type": "stream",
     "text": [
      "done\n"
     ]
    }
   ],
   "source": [
    "import numpy as np\n",
    "import csv\n",
    "import pandas as pd\n",
    "import seaborn as sns\n",
    "import matplotlib.pyplot as plt\n",
    "from sklearn import preprocessing\n",
    "from sklearn.preprocessing import MinMaxScaler\n",
    "from sklearn.model_selection import train_test_split\n",
    "from sklearn.preprocessing import RobustScaler\n",
    "from sklearn.preprocessing import StandardScaler\n",
    "print(\"done\")"
   ]
  },
  {
   "cell_type": "code",
   "execution_count": 3,
   "id": "a7b76eaa",
   "metadata": {},
   "outputs": [
    {
     "name": "stderr",
     "output_type": "stream",
     "text": [
      "2024-01-31 19:44:43.168243: I tensorflow/tsl/cuda/cudart_stub.cc:28] Could not find cuda drivers on your machine, GPU will not be used.\n",
      "2024-01-31 19:44:45.282267: I tensorflow/tsl/cuda/cudart_stub.cc:28] Could not find cuda drivers on your machine, GPU will not be used.\n",
      "2024-01-31 19:44:45.283205: I tensorflow/core/platform/cpu_feature_guard.cc:182] This TensorFlow binary is optimized to use available CPU instructions in performance-critical operations.\n",
      "To enable the following instructions: AVX2 FMA, in other operations, rebuild TensorFlow with the appropriate compiler flags.\n",
      "2024-01-31 19:44:49.789558: W tensorflow/compiler/tf2tensorrt/utils/py_utils.cc:38] TF-TRT Warning: Could not find TensorRT\n"
     ]
    },
    {
     "name": "stdout",
     "output_type": "stream",
     "text": [
      "done\n"
     ]
    }
   ],
   "source": [
    "import os\n",
    "from sklearn.model_selection import GridSearchCV\n",
    "from keras.wrappers.scikit_learn import KerasClassifier\n",
    "from keras.models import Sequential\n",
    "from keras.layers import Dense, Activation, Dropout\n",
    "\n",
    "from numpy.random import seed\n",
    "#from tensorflow import set_random_seed\n",
    "import tensorflow as tf\n",
    "print(\"done\")"
   ]
  },
  {
   "cell_type": "code",
   "execution_count": 4,
   "id": "a62b3641",
   "metadata": {},
   "outputs": [
    {
     "name": "stdout",
     "output_type": "stream",
     "text": [
      "done\n"
     ]
    }
   ],
   "source": [
    "from tensorflow import keras\n",
    "print(\"done\")"
   ]
  },
  {
   "cell_type": "code",
   "execution_count": 5,
   "id": "f98da0ef",
   "metadata": {},
   "outputs": [
    {
     "name": "stdout",
     "output_type": "stream",
     "text": [
      "done\n"
     ]
    }
   ],
   "source": [
    "from tensorflow.keras import layers\n",
    "print(\"done\")"
   ]
  },
  {
   "cell_type": "code",
   "execution_count": 6,
   "id": "e3a5005b",
   "metadata": {},
   "outputs": [
    {
     "name": "stdout",
     "output_type": "stream",
     "text": [
      "done\n"
     ]
    }
   ],
   "source": [
    "from sklearn.neighbors import KNeighborsClassifier\n",
    "from sklearn.datasets import make_classification\n",
    "print(\"done\")"
   ]
  },
  {
   "cell_type": "code",
   "execution_count": 7,
   "id": "b1273f2e",
   "metadata": {},
   "outputs": [
    {
     "name": "stdout",
     "output_type": "stream",
     "text": [
      "done\n"
     ]
    }
   ],
   "source": [
    "from keras import models\n",
    "print(\"done\")"
   ]
  },
  {
   "cell_type": "code",
   "execution_count": 8,
   "id": "0a9b6dd0",
   "metadata": {},
   "outputs": [
    {
     "name": "stdout",
     "output_type": "stream",
     "text": [
      "done\n"
     ]
    }
   ],
   "source": [
    "from sklearn.metrics import mean_absolute_error, mean_absolute_percentage_error, mean_squared_error\n",
    "print(\"done\")"
   ]
  },
  {
   "cell_type": "markdown",
   "id": "dcd21c41",
   "metadata": {},
   "source": [
    "<h3>Описание вспомогательных функций</h3>"
   ]
  },
  {
   "cell_type": "code",
   "execution_count": 9,
   "id": "9d04d843",
   "metadata": {},
   "outputs": [],
   "source": [
    "def error(y_true, y_pred):\n",
    "    print(f'{mean_absolute_error(y_true, y_pred)=}')\n",
    "    print(f'{mean_absolute_percentage_error(y_true, y_pred)=}')\n",
    "    print(f'{mean_squared_error(y_true, y_pred)=}') \n",
    "# ошибки"
   ]
  },
  {
   "cell_type": "code",
   "execution_count": 10,
   "id": "9f57d197",
   "metadata": {},
   "outputs": [],
   "source": [
    "# Загрузить данные, подготовленные на предыдущем шаге\n",
    "df = pd.read_excel('data_cleaned.xlsx', index_col=0)"
   ]
  },
  {
   "cell_type": "code",
   "execution_count": 11,
   "id": "7095f5f0",
   "metadata": {},
   "outputs": [
    {
     "name": "stdout",
     "output_type": "stream",
     "text": [
      "done\n"
     ]
    }
   ],
   "source": [
    "#Нормализация with MinMaxScaler\n",
    "\n",
    "transformer = MinMaxScaler().fit(df)\n",
    "col = df.columns\n",
    "processed = transformer.transform(df)\n",
    "df_norm = pd.DataFrame(processed, columns = col, index=df.index)\n",
    "print(\"done\")"
   ]
  },
  {
   "cell_type": "code",
   "execution_count": 26,
   "id": "6bf01eea",
   "metadata": {},
   "outputs": [
    {
     "data": {
      "text/html": [
       "<div>\n",
       "<style scoped>\n",
       "    .dataframe tbody tr th:only-of-type {\n",
       "        vertical-align: middle;\n",
       "    }\n",
       "\n",
       "    .dataframe tbody tr th {\n",
       "        vertical-align: top;\n",
       "    }\n",
       "\n",
       "    .dataframe thead th {\n",
       "        text-align: right;\n",
       "    }\n",
       "</style>\n",
       "<table border=\"1\" class=\"dataframe\">\n",
       "  <thead>\n",
       "    <tr style=\"text-align: right;\">\n",
       "      <th></th>\n",
       "      <th>Соотношение матрица-наполнитель</th>\n",
       "      <th>Плотность, кг/м3</th>\n",
       "      <th>модуль упругости, ГПа</th>\n",
       "      <th>Количество отвердителя, м.%</th>\n",
       "      <th>Содержание эпоксидных групп,%_2</th>\n",
       "      <th>Температура вспышки, С_2</th>\n",
       "      <th>Поверхностная плотность, г/м2</th>\n",
       "      <th>Модуль упругости при растяжении, ГПа</th>\n",
       "      <th>Прочность при растяжении, МПа</th>\n",
       "      <th>Потребление смолы, г/м2</th>\n",
       "      <th>Угол нашивки, град</th>\n",
       "      <th>Шаг нашивки</th>\n",
       "      <th>Плотность нашивки</th>\n",
       "    </tr>\n",
       "  </thead>\n",
       "  <tbody>\n",
       "    <tr>\n",
       "      <th>1</th>\n",
       "      <td>0.282131</td>\n",
       "      <td>0.601381</td>\n",
       "      <td>0.447061</td>\n",
       "      <td>0.123047</td>\n",
       "      <td>0.607435</td>\n",
       "      <td>0.482823</td>\n",
       "      <td>0.162230</td>\n",
       "      <td>0.319194</td>\n",
       "      <td>0.698235</td>\n",
       "      <td>0.517418</td>\n",
       "      <td>0.0</td>\n",
       "      <td>0.275109</td>\n",
       "      <td>0.544652</td>\n",
       "    </tr>\n",
       "    <tr>\n",
       "      <th>3</th>\n",
       "      <td>0.282131</td>\n",
       "      <td>0.601381</td>\n",
       "      <td>0.447061</td>\n",
       "      <td>0.608021</td>\n",
       "      <td>0.418887</td>\n",
       "      <td>0.549664</td>\n",
       "      <td>0.162230</td>\n",
       "      <td>0.319194</td>\n",
       "      <td>0.698235</td>\n",
       "      <td>0.517418</td>\n",
       "      <td>0.0</td>\n",
       "      <td>0.344539</td>\n",
       "      <td>0.365074</td>\n",
       "    </tr>\n",
       "    <tr>\n",
       "      <th>4</th>\n",
       "      <td>0.457857</td>\n",
       "      <td>0.601381</td>\n",
       "      <td>0.455721</td>\n",
       "      <td>0.502800</td>\n",
       "      <td>0.495653</td>\n",
       "      <td>0.482823</td>\n",
       "      <td>0.162230</td>\n",
       "      <td>0.319194</td>\n",
       "      <td>0.698235</td>\n",
       "      <td>0.517418</td>\n",
       "      <td>0.0</td>\n",
       "      <td>0.344539</td>\n",
       "      <td>0.503211</td>\n",
       "    </tr>\n",
       "    <tr>\n",
       "      <th>5</th>\n",
       "      <td>0.457201</td>\n",
       "      <td>0.527898</td>\n",
       "      <td>0.452685</td>\n",
       "      <td>0.502800</td>\n",
       "      <td>0.495653</td>\n",
       "      <td>0.482823</td>\n",
       "      <td>0.162230</td>\n",
       "      <td>0.319194</td>\n",
       "      <td>0.698235</td>\n",
       "      <td>0.517418</td>\n",
       "      <td>0.0</td>\n",
       "      <td>0.344539</td>\n",
       "      <td>0.544652</td>\n",
       "    </tr>\n",
       "    <tr>\n",
       "      <th>6</th>\n",
       "      <td>0.419084</td>\n",
       "      <td>0.307448</td>\n",
       "      <td>0.488508</td>\n",
       "      <td>0.502800</td>\n",
       "      <td>0.495653</td>\n",
       "      <td>0.482823</td>\n",
       "      <td>0.162230</td>\n",
       "      <td>0.319194</td>\n",
       "      <td>0.698235</td>\n",
       "      <td>0.517418</td>\n",
       "      <td>0.0</td>\n",
       "      <td>0.344539</td>\n",
       "      <td>0.682789</td>\n",
       "    </tr>\n",
       "    <tr>\n",
       "      <th>...</th>\n",
       "      <td>...</td>\n",
       "      <td>...</td>\n",
       "      <td>...</td>\n",
       "      <td>...</td>\n",
       "      <td>...</td>\n",
       "      <td>...</td>\n",
       "      <td>...</td>\n",
       "      <td>...</td>\n",
       "      <td>...</td>\n",
       "      <td>...</td>\n",
       "      <td>...</td>\n",
       "      <td>...</td>\n",
       "      <td>...</td>\n",
       "    </tr>\n",
       "    <tr>\n",
       "      <th>1018</th>\n",
       "      <td>0.361750</td>\n",
       "      <td>0.410540</td>\n",
       "      <td>0.552781</td>\n",
       "      <td>0.350139</td>\n",
       "      <td>0.333908</td>\n",
       "      <td>0.657301</td>\n",
       "      <td>0.161609</td>\n",
       "      <td>0.485125</td>\n",
       "      <td>0.480312</td>\n",
       "      <td>0.242759</td>\n",
       "      <td>1.0</td>\n",
       "      <td>0.627565</td>\n",
       "      <td>0.365347</td>\n",
       "    </tr>\n",
       "    <tr>\n",
       "      <th>1019</th>\n",
       "      <td>0.587163</td>\n",
       "      <td>0.650588</td>\n",
       "      <td>0.268550</td>\n",
       "      <td>0.712271</td>\n",
       "      <td>0.294428</td>\n",
       "      <td>0.350746</td>\n",
       "      <td>0.271207</td>\n",
       "      <td>0.475992</td>\n",
       "      <td>0.470745</td>\n",
       "      <td>0.221717</td>\n",
       "      <td>1.0</td>\n",
       "      <td>0.730963</td>\n",
       "      <td>0.458327</td>\n",
       "    </tr>\n",
       "    <tr>\n",
       "      <th>1020</th>\n",
       "      <td>0.555750</td>\n",
       "      <td>0.460227</td>\n",
       "      <td>0.251612</td>\n",
       "      <td>0.494656</td>\n",
       "      <td>0.623085</td>\n",
       "      <td>0.325580</td>\n",
       "      <td>0.572959</td>\n",
       "      <td>0.573346</td>\n",
       "      <td>0.578340</td>\n",
       "      <td>0.565435</td>\n",
       "      <td>1.0</td>\n",
       "      <td>0.286298</td>\n",
       "      <td>0.650046</td>\n",
       "    </tr>\n",
       "    <tr>\n",
       "      <th>1021</th>\n",
       "      <td>0.637396</td>\n",
       "      <td>0.691520</td>\n",
       "      <td>0.448724</td>\n",
       "      <td>0.684130</td>\n",
       "      <td>0.267818</td>\n",
       "      <td>0.444436</td>\n",
       "      <td>0.496511</td>\n",
       "      <td>0.536217</td>\n",
       "      <td>0.368070</td>\n",
       "      <td>0.451281</td>\n",
       "      <td>1.0</td>\n",
       "      <td>0.435716</td>\n",
       "      <td>0.520631</td>\n",
       "    </tr>\n",
       "    <tr>\n",
       "      <th>1022</th>\n",
       "      <td>0.657131</td>\n",
       "      <td>0.259472</td>\n",
       "      <td>0.251903</td>\n",
       "      <td>0.609147</td>\n",
       "      <td>0.888354</td>\n",
       "      <td>0.553803</td>\n",
       "      <td>0.587373</td>\n",
       "      <td>0.550550</td>\n",
       "      <td>0.647135</td>\n",
       "      <td>0.444423</td>\n",
       "      <td>1.0</td>\n",
       "      <td>0.419448</td>\n",
       "      <td>0.785487</td>\n",
       "    </tr>\n",
       "  </tbody>\n",
       "</table>\n",
       "<p>1000 rows × 13 columns</p>\n",
       "</div>"
      ],
      "text/plain": [
       "      Соотношение матрица-наполнитель  Плотность, кг/м3  \\\n",
       "1                            0.282131          0.601381   \n",
       "3                            0.282131          0.601381   \n",
       "4                            0.457857          0.601381   \n",
       "5                            0.457201          0.527898   \n",
       "6                            0.419084          0.307448   \n",
       "...                               ...               ...   \n",
       "1018                         0.361750          0.410540   \n",
       "1019                         0.587163          0.650588   \n",
       "1020                         0.555750          0.460227   \n",
       "1021                         0.637396          0.691520   \n",
       "1022                         0.657131          0.259472   \n",
       "\n",
       "      модуль упругости, ГПа  Количество отвердителя, м.%  \\\n",
       "1                  0.447061                     0.123047   \n",
       "3                  0.447061                     0.608021   \n",
       "4                  0.455721                     0.502800   \n",
       "5                  0.452685                     0.502800   \n",
       "6                  0.488508                     0.502800   \n",
       "...                     ...                          ...   \n",
       "1018               0.552781                     0.350139   \n",
       "1019               0.268550                     0.712271   \n",
       "1020               0.251612                     0.494656   \n",
       "1021               0.448724                     0.684130   \n",
       "1022               0.251903                     0.609147   \n",
       "\n",
       "      Содержание эпоксидных групп,%_2  Температура вспышки, С_2  \\\n",
       "1                            0.607435                  0.482823   \n",
       "3                            0.418887                  0.549664   \n",
       "4                            0.495653                  0.482823   \n",
       "5                            0.495653                  0.482823   \n",
       "6                            0.495653                  0.482823   \n",
       "...                               ...                       ...   \n",
       "1018                         0.333908                  0.657301   \n",
       "1019                         0.294428                  0.350746   \n",
       "1020                         0.623085                  0.325580   \n",
       "1021                         0.267818                  0.444436   \n",
       "1022                         0.888354                  0.553803   \n",
       "\n",
       "      Поверхностная плотность, г/м2  Модуль упругости при растяжении, ГПа  \\\n",
       "1                          0.162230                              0.319194   \n",
       "3                          0.162230                              0.319194   \n",
       "4                          0.162230                              0.319194   \n",
       "5                          0.162230                              0.319194   \n",
       "6                          0.162230                              0.319194   \n",
       "...                             ...                                   ...   \n",
       "1018                       0.161609                              0.485125   \n",
       "1019                       0.271207                              0.475992   \n",
       "1020                       0.572959                              0.573346   \n",
       "1021                       0.496511                              0.536217   \n",
       "1022                       0.587373                              0.550550   \n",
       "\n",
       "      Прочность при растяжении, МПа  Потребление смолы, г/м2  \\\n",
       "1                          0.698235                 0.517418   \n",
       "3                          0.698235                 0.517418   \n",
       "4                          0.698235                 0.517418   \n",
       "5                          0.698235                 0.517418   \n",
       "6                          0.698235                 0.517418   \n",
       "...                             ...                      ...   \n",
       "1018                       0.480312                 0.242759   \n",
       "1019                       0.470745                 0.221717   \n",
       "1020                       0.578340                 0.565435   \n",
       "1021                       0.368070                 0.451281   \n",
       "1022                       0.647135                 0.444423   \n",
       "\n",
       "      Угол нашивки, град  Шаг нашивки  Плотность нашивки  \n",
       "1                    0.0     0.275109           0.544652  \n",
       "3                    0.0     0.344539           0.365074  \n",
       "4                    0.0     0.344539           0.503211  \n",
       "5                    0.0     0.344539           0.544652  \n",
       "6                    0.0     0.344539           0.682789  \n",
       "...                  ...          ...                ...  \n",
       "1018                 1.0     0.627565           0.365347  \n",
       "1019                 1.0     0.730963           0.458327  \n",
       "1020                 1.0     0.286298           0.650046  \n",
       "1021                 1.0     0.435716           0.520631  \n",
       "1022                 1.0     0.419448           0.785487  \n",
       "\n",
       "[1000 rows x 13 columns]"
      ]
     },
     "execution_count": 26,
     "metadata": {},
     "output_type": "execute_result"
    }
   ],
   "source": [
    "dfpm = df_norm.copy(deep = True) \n",
    "dfpm\n",
    "# делаем копию"
   ]
  },
  {
   "cell_type": "code",
   "execution_count": 13,
   "id": "1c551ddd",
   "metadata": {},
   "outputs": [],
   "source": [
    "#Входные и выходные данные\n",
    "inputcol = [\"Плотность, кг/м3\",\"модуль упругости, ГПа\",\"Количество отвердителя, м.%\",\n",
    "         \"Содержание эпоксидных групп,%_2\",\"Температура вспышки, С_2\",\"Поверхностная плотность, г/м2\"\n",
    "               ,\"Потребление смолы, г/м2\",\n",
    "        \"Угол нашивки, град\",\"Шаг нашивки\",\"Плотность нашивки\"]\n",
    "result1 = ['Соотношение матрица-наполнитель']\n",
    "result2 = ['Модуль упругости при растяжении, ГПа']\n",
    "result3 = ['Прочность при растяжении, МПа']\n",
    "X_train = dfpm[inputcol]\n",
    "y_train1 = dfpm[result1]\n",
    "y_train2 = dfpm[result2]\n",
    "y_train3 = dfpm[result3]"
   ]
  },
  {
   "cell_type": "code",
   "execution_count": 14,
   "id": "574a371b",
   "metadata": {},
   "outputs": [],
   "source": [
    "\n",
    "Xtrn1, Xtest1, Ytrn1, Ytest1 = train_test_split(X_train, y_train1, test_size=0.3, random_state=42)\n",
    "Xtrn2, Xtest2, Ytrn2, Ytest2 = train_test_split(X_train, y_train2, test_size=0.3, random_state=42)\n",
    "Xtrn3, Xtest3, Ytrn3, Ytest3 = train_test_split(X_train, y_train3, test_size=0.3, random_state=42)"
   ]
  },
  {
   "cell_type": "code",
   "execution_count": 15,
   "id": "f78e105b",
   "metadata": {},
   "outputs": [],
   "source": [
    "def build_model():\n",
    "    model=models.Sequential() \n",
    "    model.add(layers.Dense(64, activation='tanh', input_shape=(Xtrn1.shape[1],)))\n",
    "    model.add(layers.Dense(64, activation='tanh'))\n",
    "    model.add(layers.Dense(1))\n",
    "    model.compile(optimizer='rmsprop', loss='mse', metrics=['mae']) # выбрать метрику\n",
    "    return model\n",
    "# строим модель"
   ]
  },
  {
   "cell_type": "code",
   "execution_count": 16,
   "id": "468bc803",
   "metadata": {},
   "outputs": [
    {
     "name": "stdout",
     "output_type": "stream",
     "text": [
      "processing fold # 0\n",
      "processing fold # 1\n",
      "processing fold # 2\n",
      "processing fold # 3\n",
      "done\n"
     ]
    }
   ],
   "source": [
    "k = 4 \n",
    "num_val_samples = len(Xtrn1) // k\n",
    "num_epochs = 50\n",
    "all_scores = []\n",
    "for i in range(k):\n",
    "    print('processing fold #', i)\n",
    "    \n",
    "    val_data = Xtrn1[i * num_val_samples: (i + 1) * num_val_samples]\n",
    "    val_targets = Ytrn1[i * num_val_samples: (i + 1) * num_val_samples]\n",
    "\n",
    "    partial_train_data = np.concatenate(\n",
    "        [Xtrn1[:i * num_val_samples],\n",
    "         Xtrn1[(i + 1) * num_val_samples:]],\n",
    "        axis=0)\n",
    "    partial_train_targets = np.concatenate(\n",
    "        [Ytrn1[:i * num_val_samples],\n",
    "         Ytrn1[(i + 1) * num_val_samples:]],\n",
    "        axis=0)\n",
    "    \n",
    " \n",
    "    model = build_model()\n",
    "\n",
    "    model.fit(partial_train_data, partial_train_targets,\n",
    "              epochs=num_epochs, batch_size=1, verbose=0)\n",
    "\n",
    "    val_mse, val_mae = model.evaluate(val_data, val_targets, verbose=0)\n",
    "    all_scores.append(val_mae)\n",
    "print(\"done\")    "
   ]
  },
  {
   "cell_type": "code",
   "execution_count": 17,
   "id": "6e3919b0",
   "metadata": {},
   "outputs": [
    {
     "data": {
      "text/plain": [
       "[0.14663442969322205,\n",
       " 0.14152252674102783,\n",
       " 0.14068378508090973,\n",
       " 0.14971597492694855]"
      ]
     },
     "execution_count": 17,
     "metadata": {},
     "output_type": "execute_result"
    }
   ],
   "source": [
    "all_scores "
   ]
  },
  {
   "cell_type": "code",
   "execution_count": 18,
   "id": "7243bf39",
   "metadata": {},
   "outputs": [
    {
     "data": {
      "text/plain": [
       "0.14463917911052704"
      ]
     },
     "execution_count": 18,
     "metadata": {},
     "output_type": "execute_result"
    }
   ],
   "source": [
    "np.mean(all_scores) "
   ]
  },
  {
   "cell_type": "code",
   "execution_count": 19,
   "id": "4cf80977",
   "metadata": {},
   "outputs": [
    {
     "name": "stdout",
     "output_type": "stream",
     "text": [
      "processing fold #0\n",
      "processing fold #1\n",
      "processing fold #2\n",
      "processing fold #3\n",
      "done\n"
     ]
    }
   ],
   "source": [
    "num_epochs = 50\n",
    "all_mae_histories = []\n",
    "for i in range(k):\n",
    "    print('processing fold #%d' % i)\n",
    "    val_data = Xtrn1[i * num_val_samples: (i + 1) * num_val_samples]\n",
    "    val_targets = Ytrn1[i * num_val_samples: (i + 1) * num_val_samples]\n",
    "    partial_train_data = np.concatenate(\n",
    "        [Xtrn1[:i * num_val_samples],\n",
    "         Xtrn1[(i + 1) * num_val_samples:]],\n",
    "        axis=0)\n",
    "    partial_train_targets = np.concatenate(\n",
    "        [Ytrn1[:i * num_val_samples],\n",
    "         Ytrn1[(i + 1) * num_val_samples:]],\n",
    "        axis=0)\n",
    "    model = build_model()\n",
    "    history = model.fit(partial_train_data, partial_train_targets,\n",
    "                        validation_data=(val_data, val_targets),\n",
    "                        epochs=num_epochs, batch_size=1, verbose=0)\n",
    "    mae_history = history.history['val_mae']\n",
    "    all_mae_histories.append(mae_history)\n",
    "print(\"done\")"
   ]
  },
  {
   "cell_type": "code",
   "execution_count": 20,
   "id": "a9e532f5",
   "metadata": {},
   "outputs": [
    {
     "data": {
      "image/png": "[encoded data removed]",
      "text/plain": [
       "<Figure size 640x480 with 1 Axes>"
      ]
     },
     "metadata": {},
     "output_type": "display_data"
    }
   ],
   "source": [
    "average_mae_history =[\n",
    "    np.mean([x[i] for x in all_mae_histories]) for i in range(num_epochs)\n",
    "]\n",
    "plt.plot(range(1, len(average_mae_history) + 1), average_mae_history)\n",
    "plt.xlabel('Epochs')\n",
    "plt.ylabel('Validation MAE')\n",
    "plt.show()"
   ]
  },
  {
   "cell_type": "code",
   "execution_count": 22,
   "id": "c3ca43c3",
   "metadata": {},
   "outputs": [
    {
     "data": {
      "image/png": "[encoded data removed]",
      "text/plain": [
       "<Figure size 640x480 with 1 Axes>"
      ]
     },
     "metadata": {},
     "output_type": "display_data"
    }
   ],
   "source": [
    "#Сглаживание графика\n",
    "def smooth_curve(points, factor=0.9):\n",
    "    smoothed_points = []\n",
    "    for point in points:\n",
    "        if smoothed_points:\n",
    "            previous = smoothed_points[-1]\n",
    "            smoothed_points.append(previous * factor + point * (1 - factor))\n",
    "        else:\n",
    "            smoothed_points.append(point)\n",
    "    return smoothed_points\n",
    "smooth_mae_history = smooth_curve(average_mae_history[10:])\n",
    "plt.plot(range(1, len(smooth_mae_history) + 1), smooth_mae_history)\n",
    "plt.xlabel('Epochs')\n",
    "plt.ylabel('Validation MAE')\n",
    "plt.show()"
   ]
  },
  {
   "cell_type": "code",
   "execution_count": 23,
   "id": "f8d1c568",
   "metadata": {},
   "outputs": [
    {
     "name": "stdout",
     "output_type": "stream",
     "text": [
      "Epoch 1/30\n",
      "175/175 [==============================] - 0s 782us/step - loss: 0.0434 - mae: 0.1687\n",
      "Epoch 2/30\n",
      "175/175 [==============================] - 0s 768us/step - loss: 0.0384 - mae: 0.1563\n",
      "Epoch 3/30\n",
      "175/175 [==============================] - 0s 785us/step - loss: 0.0378 - mae: 0.1560\n",
      "Epoch 4/30\n",
      "175/175 [==============================] - 0s 776us/step - loss: 0.0356 - mae: 0.1507\n",
      "Epoch 5/30\n",
      "175/175 [==============================] - 0s 776us/step - loss: 0.0355 - mae: 0.1524\n",
      "Epoch 6/30\n",
      "175/175 [==============================] - 0s 785us/step - loss: 0.0355 - mae: 0.1505\n",
      "Epoch 7/30\n",
      "175/175 [==============================] - 0s 775us/step - loss: 0.0346 - mae: 0.1493\n",
      "Epoch 8/30\n",
      "175/175 [==============================] - 0s 777us/step - loss: 0.0341 - mae: 0.1472\n",
      "Epoch 9/30\n",
      "175/175 [==============================] - 0s 776us/step - loss: 0.0339 - mae: 0.1503\n",
      "Epoch 10/30\n",
      "175/175 [==============================] - 0s 777us/step - loss: 0.0330 - mae: 0.1452\n",
      "Epoch 11/30\n",
      "175/175 [==============================] - 0s 776us/step - loss: 0.0330 - mae: 0.1473\n",
      "Epoch 12/30\n",
      "175/175 [==============================] - 0s 767us/step - loss: 0.0330 - mae: 0.1463\n",
      "Epoch 13/30\n",
      "175/175 [==============================] - 0s 797us/step - loss: 0.0331 - mae: 0.1459\n",
      "Epoch 14/30\n",
      "175/175 [==============================] - 0s 781us/step - loss: 0.0324 - mae: 0.1453\n",
      "Epoch 15/30\n",
      "175/175 [==============================] - 0s 774us/step - loss: 0.0315 - mae: 0.1443\n",
      "Epoch 16/30\n",
      "175/175 [==============================] - 0s 779us/step - loss: 0.0321 - mae: 0.1444\n",
      "Epoch 17/30\n",
      "175/175 [==============================] - 0s 768us/step - loss: 0.0320 - mae: 0.1439\n",
      "Epoch 18/30\n",
      "175/175 [==============================] - 0s 770us/step - loss: 0.0318 - mae: 0.1440\n",
      "Epoch 19/30\n",
      "175/175 [==============================] - 0s 937us/step - loss: 0.0314 - mae: 0.1438\n",
      "Epoch 20/30\n",
      "175/175 [==============================] - 0s 779us/step - loss: 0.0319 - mae: 0.1431\n",
      "Epoch 21/30\n",
      "175/175 [==============================] - 0s 775us/step - loss: 0.0313 - mae: 0.1419\n",
      "Epoch 22/30\n",
      "175/175 [==============================] - 0s 767us/step - loss: 0.0318 - mae: 0.1451\n",
      "Epoch 23/30\n",
      "175/175 [==============================] - 0s 779us/step - loss: 0.0314 - mae: 0.1430\n",
      "Epoch 24/30\n",
      "175/175 [==============================] - 0s 770us/step - loss: 0.0313 - mae: 0.1425\n",
      "Epoch 25/30\n",
      "175/175 [==============================] - 0s 771us/step - loss: 0.0312 - mae: 0.1417\n",
      "Epoch 26/30\n",
      "175/175 [==============================] - 0s 782us/step - loss: 0.0317 - mae: 0.1435\n",
      "Epoch 27/30\n",
      "175/175 [==============================] - 0s 775us/step - loss: 0.0318 - mae: 0.1441\n",
      "Epoch 28/30\n",
      "175/175 [==============================] - 0s 788us/step - loss: 0.0314 - mae: 0.1420\n",
      "Epoch 29/30\n",
      "175/175 [==============================] - 0s 771us/step - loss: 0.0309 - mae: 0.1421\n",
      "Epoch 30/30\n",
      "175/175 [==============================] - 0s 771us/step - loss: 0.0313 - mae: 0.1422\n",
      "10/10 [==============================] - 0s 936us/step - loss: 0.0330 - mae: 0.1441\n"
     ]
    }
   ],
   "source": [
    "\n",
    "model= build_model()\n",
    "\n",
    "model.fit(Xtrn1, Ytrn1,\n",
    "         epochs=30, batch_size=4, verbose=1)\n",
    "test_mse_score, test_mae_score = model.evaluate(Xtest1, Ytest1)"
   ]
  },
  {
   "cell_type": "code",
   "execution_count": 66,
   "id": "d51c9fdd",
   "metadata": {},
   "outputs": [
    {
     "data": {
      "text/plain": [
       "0.14409232139587402"
      ]
     },
     "execution_count": 66,
     "metadata": {},
     "output_type": "execute_result"
    }
   ],
   "source": [
    "test_mae_score"
   ]
  },
  {
   "cell_type": "code",
   "execution_count": 67,
   "id": "cdfe93e3",
   "metadata": {},
   "outputs": [
    {
     "name": "stdout",
     "output_type": "stream",
     "text": [
      "10/10 [==============================] - 0s 708us/step\n",
      "mean_absolute_error(y_true, y_pred)=0.144092303602837\n",
      "mean_absolute_percentage_error(y_true, y_pred)=0.3151502951267009\n",
      "mean_squared_error(y_true, y_pred)=0.0329500526996221\n"
     ]
    },
    {
     "data": {
      "text/html": [
       "<div>\n",
       "<style scoped>\n",
       "    .dataframe tbody tr th:only-of-type {\n",
       "        vertical-align: middle;\n",
       "    }\n",
       "\n",
       "    .dataframe tbody tr th {\n",
       "        vertical-align: top;\n",
       "    }\n",
       "\n",
       "    .dataframe thead th {\n",
       "        text-align: right;\n",
       "    }\n",
       "</style>\n",
       "<table border=\"1\" class=\"dataframe\">\n",
       "  <thead>\n",
       "    <tr style=\"text-align: right;\">\n",
       "      <th></th>\n",
       "      <th>Плотность, кг/м3</th>\n",
       "      <th>модуль упругости, ГПа</th>\n",
       "      <th>Количество отвердителя, м.%</th>\n",
       "      <th>Содержание эпоксидных групп,%_2</th>\n",
       "      <th>Температура вспышки, С_2</th>\n",
       "      <th>Поверхностная плотность, г/м2</th>\n",
       "      <th>Потребление смолы, г/м2</th>\n",
       "      <th>Угол нашивки, град</th>\n",
       "      <th>Шаг нашивки</th>\n",
       "      <th>Плотность нашивки</th>\n",
       "    </tr>\n",
       "  </thead>\n",
       "  <tbody>\n",
       "    <tr>\n",
       "      <th>537</th>\n",
       "      <td>0.509153</td>\n",
       "      <td>0.259198</td>\n",
       "      <td>0.833186</td>\n",
       "      <td>0.858396</td>\n",
       "      <td>0.542777</td>\n",
       "      <td>0.310748</td>\n",
       "      <td>0.826006</td>\n",
       "      <td>0.0</td>\n",
       "      <td>0.395193</td>\n",
       "      <td>0.606088</td>\n",
       "    </tr>\n",
       "    <tr>\n",
       "      <th>756</th>\n",
       "      <td>0.471233</td>\n",
       "      <td>0.210160</td>\n",
       "      <td>0.406082</td>\n",
       "      <td>0.489163</td>\n",
       "      <td>0.914348</td>\n",
       "      <td>0.169342</td>\n",
       "      <td>0.577467</td>\n",
       "      <td>1.0</td>\n",
       "      <td>0.493100</td>\n",
       "      <td>0.383679</td>\n",
       "    </tr>\n",
       "    <tr>\n",
       "      <th>759</th>\n",
       "      <td>0.700658</td>\n",
       "      <td>0.088539</td>\n",
       "      <td>0.287928</td>\n",
       "      <td>0.642083</td>\n",
       "      <td>0.411889</td>\n",
       "      <td>0.554467</td>\n",
       "      <td>0.475626</td>\n",
       "      <td>1.0</td>\n",
       "      <td>0.370668</td>\n",
       "      <td>0.447643</td>\n",
       "    </tr>\n",
       "    <tr>\n",
       "      <th>677</th>\n",
       "      <td>0.579370</td>\n",
       "      <td>0.420160</td>\n",
       "      <td>0.748506</td>\n",
       "      <td>0.974736</td>\n",
       "      <td>0.568609</td>\n",
       "      <td>0.612703</td>\n",
       "      <td>0.095559</td>\n",
       "      <td>1.0</td>\n",
       "      <td>0.760333</td>\n",
       "      <td>0.321540</td>\n",
       "    </tr>\n",
       "    <tr>\n",
       "      <th>423</th>\n",
       "      <td>0.373827</td>\n",
       "      <td>0.378414</td>\n",
       "      <td>0.512036</td>\n",
       "      <td>0.300015</td>\n",
       "      <td>0.388094</td>\n",
       "      <td>0.662721</td>\n",
       "      <td>0.258116</td>\n",
       "      <td>0.0</td>\n",
       "      <td>0.605451</td>\n",
       "      <td>0.462826</td>\n",
       "    </tr>\n",
       "    <tr>\n",
       "      <th>...</th>\n",
       "      <td>...</td>\n",
       "      <td>...</td>\n",
       "      <td>...</td>\n",
       "      <td>...</td>\n",
       "      <td>...</td>\n",
       "      <td>...</td>\n",
       "      <td>...</td>\n",
       "      <td>...</td>\n",
       "      <td>...</td>\n",
       "      <td>...</td>\n",
       "    </tr>\n",
       "    <tr>\n",
       "      <th>483</th>\n",
       "      <td>0.760172</td>\n",
       "      <td>0.393657</td>\n",
       "      <td>0.455692</td>\n",
       "      <td>0.762389</td>\n",
       "      <td>0.599349</td>\n",
       "      <td>0.455127</td>\n",
       "      <td>0.593013</td>\n",
       "      <td>0.0</td>\n",
       "      <td>0.381818</td>\n",
       "      <td>0.628311</td>\n",
       "    </tr>\n",
       "    <tr>\n",
       "      <th>958</th>\n",
       "      <td>0.480576</td>\n",
       "      <td>0.204933</td>\n",
       "      <td>0.996825</td>\n",
       "      <td>0.371747</td>\n",
       "      <td>0.692817</td>\n",
       "      <td>0.704978</td>\n",
       "      <td>0.752250</td>\n",
       "      <td>1.0</td>\n",
       "      <td>0.472654</td>\n",
       "      <td>0.615517</td>\n",
       "    </tr>\n",
       "    <tr>\n",
       "      <th>441</th>\n",
       "      <td>0.352255</td>\n",
       "      <td>0.168967</td>\n",
       "      <td>0.415156</td>\n",
       "      <td>0.164165</td>\n",
       "      <td>0.497721</td>\n",
       "      <td>0.054555</td>\n",
       "      <td>0.790104</td>\n",
       "      <td>0.0</td>\n",
       "      <td>0.084491</td>\n",
       "      <td>0.587531</td>\n",
       "    </tr>\n",
       "    <tr>\n",
       "      <th>9</th>\n",
       "      <td>0.772842</td>\n",
       "      <td>0.861312</td>\n",
       "      <td>0.608021</td>\n",
       "      <td>0.418887</td>\n",
       "      <td>0.549664</td>\n",
       "      <td>0.782031</td>\n",
       "      <td>0.748729</td>\n",
       "      <td>0.0</td>\n",
       "      <td>0.483401</td>\n",
       "      <td>0.544652</td>\n",
       "    </tr>\n",
       "    <tr>\n",
       "      <th>161</th>\n",
       "      <td>0.444291</td>\n",
       "      <td>0.259211</td>\n",
       "      <td>0.604350</td>\n",
       "      <td>0.622283</td>\n",
       "      <td>0.415966</td>\n",
       "      <td>0.784670</td>\n",
       "      <td>0.477957</td>\n",
       "      <td>0.0</td>\n",
       "      <td>0.379992</td>\n",
       "      <td>0.649848</td>\n",
       "    </tr>\n",
       "  </tbody>\n",
       "</table>\n",
       "<p>300 rows × 10 columns</p>\n",
       "</div>"
      ],
      "text/plain": [
       "     Плотность, кг/м3  модуль упругости, ГПа  Количество отвердителя, м.%  \\\n",
       "537          0.509153               0.259198                     0.833186   \n",
       "756          0.471233               0.210160                     0.406082   \n",
       "759          0.700658               0.088539                     0.287928   \n",
       "677          0.579370               0.420160                     0.748506   \n",
       "423          0.373827               0.378414                     0.512036   \n",
       "..                ...                    ...                          ...   \n",
       "483          0.760172               0.393657                     0.455692   \n",
       "958          0.480576               0.204933                     0.996825   \n",
       "441          0.352255               0.168967                     0.415156   \n",
       "9            0.772842               0.861312                     0.608021   \n",
       "161          0.444291               0.259211                     0.604350   \n",
       "\n",
       "     Содержание эпоксидных групп,%_2  Температура вспышки, С_2  \\\n",
       "537                         0.858396                  0.542777   \n",
       "756                         0.489163                  0.914348   \n",
       "759                         0.642083                  0.411889   \n",
       "677                         0.974736                  0.568609   \n",
       "423                         0.300015                  0.388094   \n",
       "..                               ...                       ...   \n",
       "483                         0.762389                  0.599349   \n",
       "958                         0.371747                  0.692817   \n",
       "441                         0.164165                  0.497721   \n",
       "9                           0.418887                  0.549664   \n",
       "161                         0.622283                  0.415966   \n",
       "\n",
       "     Поверхностная плотность, г/м2  Потребление смолы, г/м2  \\\n",
       "537                       0.310748                 0.826006   \n",
       "756                       0.169342                 0.577467   \n",
       "759                       0.554467                 0.475626   \n",
       "677                       0.612703                 0.095559   \n",
       "423                       0.662721                 0.258116   \n",
       "..                             ...                      ...   \n",
       "483                       0.455127                 0.593013   \n",
       "958                       0.704978                 0.752250   \n",
       "441                       0.054555                 0.790104   \n",
       "9                         0.782031                 0.748729   \n",
       "161                       0.784670                 0.477957   \n",
       "\n",
       "     Угол нашивки, град  Шаг нашивки  Плотность нашивки  \n",
       "537                 0.0     0.395193           0.606088  \n",
       "756                 1.0     0.493100           0.383679  \n",
       "759                 1.0     0.370668           0.447643  \n",
       "677                 1.0     0.760333           0.321540  \n",
       "423                 0.0     0.605451           0.462826  \n",
       "..                  ...          ...                ...  \n",
       "483                 0.0     0.381818           0.628311  \n",
       "958                 1.0     0.472654           0.615517  \n",
       "441                 0.0     0.084491           0.587531  \n",
       "9                   0.0     0.483401           0.544652  \n",
       "161                 0.0     0.379992           0.649848  \n",
       "\n",
       "[300 rows x 10 columns]"
      ]
     },
     "execution_count": 67,
     "metadata": {},
     "output_type": "execute_result"
    }
   ],
   "source": [
    "y_pred1 = model.predict(Xtest1)\n",
    "\n",
    "error(y_pred1, Ytest1)\n",
    "Xtest1"
   ]
  },
  {
   "cell_type": "code",
   "execution_count": 71,
   "id": "14fabba5",
   "metadata": {},
   "outputs": [
    {
     "data": {
      "text/plain": [
       "Соотношение матрица-наполнитель         0.264440\n",
       "Плотность, кг/м3                        0.813994\n",
       "модуль упругости, ГПа                   0.515075\n",
       "Количество отвердителя, м.%             0.484438\n",
       "Содержание эпоксидных групп,%_2         0.713817\n",
       "Температура вспышки, С_2                0.785071\n",
       "Поверхностная плотность, г/м2           0.562840\n",
       "Модуль упругости при растяжении, ГПа    0.665199\n",
       "Прочность при растяжении, МПа           0.499482\n",
       "Потребление смолы, г/м2                 0.462718\n",
       "Угол нашивки, град                      1.000000\n",
       "Шаг нашивки                             0.198021\n",
       "Плотность нашивки                       0.631115\n",
       "Name: 981, dtype: float64"
      ]
     },
     "execution_count": 71,
     "metadata": {},
     "output_type": "execute_result"
    }
   ],
   "source": [
    "dfpm.iloc[958]"
   ]
  },
  {
   "cell_type": "code",
   "execution_count": 70,
   "id": "a26318a5",
   "metadata": {},
   "outputs": [
    {
     "data": {
      "text/plain": [
       "Соотношение матрица-наполнитель    0.431302\n",
       "Name: 958, dtype: float64"
      ]
     },
     "execution_count": 70,
     "metadata": {},
     "output_type": "execute_result"
    }
   ],
   "source": [
    "Ytest1.loc[958]"
   ]
  },
  {
   "cell_type": "code",
   "execution_count": null,
   "id": "ebad057d",
   "metadata": {},
   "outputs": [],
   "source": [
    "print('Метрики для параметра \"Соотношение матрица-наполнитель\"')\n",
    "error(X_test_2['pred1'], df.loc[Ytest1.index.tolist()]['Соотношение матрица-наполнитель']) \n",
    "print('Метрики для параметра \"Модуль упругости при растяжении, ГПа\"')\n",
    "error(X_test_2['pred2'], df.loc[Ytest2.index.tolist()]['Модуль упругости при растяжении, ГПа']) \n",
    "print('Метрики для параметра \"Прочность при растяжении, МПа\"')\n",
    "error(X_test_2['pred3'], df.loc[Ytest3.index.tolist()]['Прочность при растяжении, МПа']) "
   ]
  }
 ],
 "metadata": {
  "kernelspec": {
   "display_name": "Python 3 (ipykernel)",
   "language": "python",
   "name": "python3"
  },
  "language_info": {
   "codemirror_mode": {
    "name": "ipython",
    "version": 3
   },
   "file_extension": ".py",
   "mimetype": "text/x-python",
   "name": "python",
   "nbconvert_exporter": "python",
   "pygments_lexer": "ipython3",
   "version": "3.10.13"
  }
 },
 "nbformat": 4,
 "nbformat_minor": 5
}
