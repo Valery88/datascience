{
 "cells": [
  {
   "cell_type": "code",
   "execution_count": 1,
   "id": "81b746e2-4e19-4d98-8d3f-b4a428cd6647",
   "metadata": {},
   "outputs": [
    {
     "name": "stdout",
     "output_type": "stream",
     "text": [
      "done\n"
     ]
    }
   ],
   "source": [
    "import numpy as np\n",
    "import csv\n",
    "import pandas as pd\n",
    "import seaborn as sns\n",
    "import matplotlib.pyplot as plt\n",
    "from sklearn import preprocessing\n",
    "from sklearn.preprocessing import MinMaxScaler\n",
    "from sklearn.model_selection import train_test_split\n",
    "from sklearn.preprocessing import RobustScaler\n",
    "from sklearn.preprocessing import StandardScaler\n",
    "print(\"done\")"
   ]
  },
  {
   "cell_type": "code",
   "execution_count": 2,
   "id": "ffc7aa53-4d1e-47c7-8b5c-ebb79e6819e1",
   "metadata": {},
   "outputs": [
    {
     "name": "stderr",
     "output_type": "stream",
     "text": [
      "2024-01-31 19:24:25.407783: I tensorflow/tsl/cuda/cudart_stub.cc:28] Could not find cuda drivers on your machine, GPU will not be used.\n",
      "2024-01-31 19:24:27.455517: I tensorflow/tsl/cuda/cudart_stub.cc:28] Could not find cuda drivers on your machine, GPU will not be used.\n",
      "2024-01-31 19:24:27.456403: I tensorflow/core/platform/cpu_feature_guard.cc:182] This TensorFlow binary is optimized to use available CPU instructions in performance-critical operations.\n",
      "To enable the following instructions: AVX2 FMA, in other operations, rebuild TensorFlow with the appropriate compiler flags.\n",
      "2024-01-31 19:24:31.129351: W tensorflow/compiler/tf2tensorrt/utils/py_utils.cc:38] TF-TRT Warning: Could not find TensorRT\n"
     ]
    },
    {
     "name": "stdout",
     "output_type": "stream",
     "text": [
      "done\n"
     ]
    }
   ],
   "source": [
    "import os\n",
    "from sklearn.model_selection import GridSearchCV\n",
    "from keras.wrappers.scikit_learn import KerasClassifier\n",
    "from keras.models import Sequential\n",
    "from keras.layers import Dense, Activation, Dropout\n",
    "\n",
    "from numpy.random import seed\n",
    "#from tensorflow import set_random_seed\n",
    "import tensorflow as tf\n",
    "print(\"done\")"
   ]
  },
  {
   "cell_type": "code",
   "execution_count": 3,
   "id": "b60dec40-a821-4c58-937a-d98c90e8e85f",
   "metadata": {},
   "outputs": [
    {
     "name": "stdout",
     "output_type": "stream",
     "text": [
      "done\n"
     ]
    }
   ],
   "source": [
    "from tensorflow import keras\n",
    "print(\"done\")"
   ]
  },
  {
   "cell_type": "code",
   "execution_count": 4,
   "id": "c9c97d43-f5c5-4353-9b4e-098d383220f0",
   "metadata": {},
   "outputs": [
    {
     "name": "stdout",
     "output_type": "stream",
     "text": [
      "done\n"
     ]
    }
   ],
   "source": [
    "from tensorflow.keras import layers\n",
    "print(\"done\")"
   ]
  },
  {
   "cell_type": "code",
   "execution_count": 5,
   "id": "c418045a-35d2-41b1-96b6-b07b7f6a2116",
   "metadata": {},
   "outputs": [
    {
     "name": "stdout",
     "output_type": "stream",
     "text": [
      "done\n"
     ]
    }
   ],
   "source": [
    "from sklearn.neighbors import KNeighborsClassifier\n",
    "from sklearn.datasets import make_classification\n",
    "print(\"done\")"
   ]
  },
  {
   "cell_type": "code",
   "execution_count": 6,
   "id": "f1e956ac-612d-482d-9bb3-58ad1b4760ef",
   "metadata": {},
   "outputs": [
    {
     "name": "stdout",
     "output_type": "stream",
     "text": [
      "done\n"
     ]
    }
   ],
   "source": [
    "from keras import models\n",
    "print(\"done\")"
   ]
  },
  {
   "cell_type": "markdown",
   "id": "66435e49-0ecb-4037-a69e-d7e0ecd28764",
   "metadata": {},
   "source": [
    "<h3>Описание вспомогательных функций</h3>"
   ]
  },
  {
   "cell_type": "code",
   "execution_count": null,
   "id": "c8c099c1-eeaf-4556-9e46-79f3595c2748",
   "metadata": {},
   "outputs": [],
   "source": [
    "def error(y_true, y_pred):\n",
    "    print(f'{mean_absolute_error(y_true, y_pred)=}')\n",
    "    print(f'{mean_absolute_percentage_error(y_true, y_pred)=}')\n",
    "    print(f'{mean_squared_error(y_true, y_pred)=}') \n",
    "# ошибки"
   ]
  },
  {
   "cell_type": "code",
   "execution_count": 7,
   "id": "35b6ac5b-0ecc-412d-8f5a-f0f324ca330f",
   "metadata": {},
   "outputs": [],
   "source": [
    "# Загрузить данные, подготовленные на предыдущем шаге\n",
    "df = pd.read_excel('data_cleaned.xlsx', index_col=0)"
   ]
  },
  {
   "cell_type": "code",
   "execution_count": 9,
   "id": "109a0584-8bbe-4a07-bfad-35c615e7ac15",
   "metadata": {},
   "outputs": [
    {
     "name": "stdout",
     "output_type": "stream",
     "text": [
      "done\n"
     ]
    }
   ],
   "source": [
    "#Нормализация with MinMaxScaler\n",
    "\n",
    "transformer = MinMaxScaler().fit(df)\n",
    "col = df.columns\n",
    "processed = transformer.transform(df)\n",
    "df_norm = pd.DataFrame(processed, columns = col, index=df.index)\n",
    "print(\"done\")"
   ]
  },
  {
   "cell_type": "code",
   "execution_count": 10,
   "id": "7739bc5c-a751-416f-a090-53b00f28e8cc",
   "metadata": {},
   "outputs": [],
   "source": [
    "dfpm = df_norm.copy(deep = True) \n",
    "# делаем копию"
   ]
  },
  {
   "cell_type": "code",
   "execution_count": 11,
   "id": "1705f2d7-49b2-49eb-8959-7641d17829c2",
   "metadata": {},
   "outputs": [],
   "source": [
    "#Входные и выходные данные\n",
    "inputcol = [\"Плотность, кг/м3\",\"модуль упругости, ГПа\",\"Количество отвердителя, м.%\",\n",
    "         \"Содержание эпоксидных групп,%_2\",\"Температура вспышки, С_2\",\"Поверхностная плотность, г/м2\"\n",
    "               ,\"Потребление смолы, г/м2\",\n",
    "        \"Угол нашивки, град\",\"Шаг нашивки\",\"Плотность нашивки\"]\n",
    "result1 = ['Соотношение матрица-наполнитель']\n",
    "result2 = ['Модуль упругости при растяжении, ГПа']\n",
    "result3 = ['Прочность при растяжении, МПа']\n",
    "X_train = dfpm[inputcol]\n",
    "y_train1 = dfpm[result1]\n",
    "y_train2 = dfpm[result2]\n",
    "y_train3 = dfpm[result3]"
   ]
  },
  {
   "cell_type": "code",
   "execution_count": 12,
   "id": "8b514e0a-c5a7-4ff0-95b6-81d4098b602e",
   "metadata": {},
   "outputs": [],
   "source": [
    "\n",
    "Xtrn1, Xtest1, Ytrn1, Ytest1 = train_test_split(X_train, y_train1, test_size=0.3, random_state=42)\n",
    "Xtrn2, Xtest2, Ytrn2, Ytest2 = train_test_split(X_train, y_train2, test_size=0.3, random_state=42)\n",
    "Xtrn3, Xtest3, Ytrn3, Ytest3 = train_test_split(X_train, y_train3, test_size=0.3, random_state=42)"
   ]
  },
  {
   "cell_type": "code",
   "execution_count": 13,
   "id": "af8c0836-321a-4192-84e9-841667f85223",
   "metadata": {},
   "outputs": [],
   "source": [
    "def build_model():\n",
    "    model=models.Sequential() \n",
    "    model.add(layers.Dense(64, activation='tanh', input_shape=(Xtrn1.shape[1],)))\n",
    "    model.add(layers.Dense(64, activation='tanh'))\n",
    "    model.add(layers.Dense(1))\n",
    "    model.compile(optimizer='rmsprop', loss='mse', metrics=['mae']) # выбрать метрику\n",
    "    return model\n",
    "# строим модель"
   ]
  },
  {
   "cell_type": "code",
   "execution_count": 14,
   "id": "a03c9399-0462-47cd-9bb5-1d0782ffbe24",
   "metadata": {},
   "outputs": [
    {
     "name": "stdout",
     "output_type": "stream",
     "text": [
      "processing fold # 0\n",
      "processing fold # 1\n",
      "processing fold # 2\n",
      "processing fold # 3\n"
     ]
    }
   ],
   "source": [
    "k = 4 \n",
    "num_val_samples = len(Xtrn1) // k\n",
    "num_epochs = 50\n",
    "all_scores = []\n",
    "for i in range(k):\n",
    "    print('processing fold #', i)\n",
    "    \n",
    "    val_data = Xtrn1[i * num_val_samples: (i + 1) * num_val_samples]\n",
    "    val_targets = Ytrn1[i * num_val_samples: (i + 1) * num_val_samples]\n",
    "\n",
    "    partial_train_data = np.concatenate(\n",
    "        [Xtrn1[:i * num_val_samples],\n",
    "         Xtrn1[(i + 1) * num_val_samples:]],\n",
    "        axis=0)\n",
    "    partial_train_targets = np.concatenate(\n",
    "        [Ytrn1[:i * num_val_samples],\n",
    "         Ytrn1[(i + 1) * num_val_samples:]],\n",
    "        axis=0)\n",
    "    \n",
    " \n",
    "    model = build_model()\n",
    "\n",
    "    model.fit(partial_train_data, partial_train_targets,\n",
    "              epochs=num_epochs, batch_size=1, verbose=0)\n",
    "\n",
    "    val_mse, val_mae = model.evaluate(val_data, val_targets, verbose=0)\n",
    "    all_scores.append(val_mae)\n",
    "print(\"done\")    "
   ]
  },
  {
   "cell_type": "code",
   "execution_count": 15,
   "id": "80ab1722-cc48-4b12-a966-0c8f82673869",
   "metadata": {},
   "outputs": [
    {
     "data": {
      "text/plain": [
       "[0.14228017628192902,\n",
       " 0.13568608462810516,\n",
       " 0.1411134898662567,\n",
       " 0.1593511998653412]"
      ]
     },
     "execution_count": 15,
     "metadata": {},
     "output_type": "execute_result"
    }
   ],
   "source": [
    "all_scores "
   ]
  },
  {
   "cell_type": "code",
   "execution_count": 16,
   "id": "bb5758e5-5054-4d5a-b989-2ad4034efe56",
   "metadata": {},
   "outputs": [
    {
     "data": {
      "text/plain": [
       "0.14460773766040802"
      ]
     },
     "execution_count": 16,
     "metadata": {},
     "output_type": "execute_result"
    }
   ],
   "source": [
    "np.mean(all_scores) "
   ]
  },
  {
   "cell_type": "code",
   "execution_count": 17,
   "id": "10a078c4-6492-4135-bc95-0796ed7ba9bd",
   "metadata": {},
   "outputs": [
    {
     "name": "stdout",
     "output_type": "stream",
     "text": [
      "processing fold #0\n",
      "processing fold #1\n",
      "processing fold #2\n",
      "processing fold #3\n"
     ]
    }
   ],
   "source": [
    "num_epochs = 50\n",
    "all_mae_histories = []\n",
    "for i in range(k):\n",
    "    print('processing fold #%d' % i)\n",
    "    val_data = Xtrn1[i * num_val_samples: (i + 1) * num_val_samples]\n",
    "    val_targets = Ytrn1[i * num_val_samples: (i + 1) * num_val_samples]\n",
    "    partial_train_data = np.concatenate(\n",
    "        [Xtrn1[:i * num_val_samples],\n",
    "         Xtrn1[(i + 1) * num_val_samples:]],\n",
    "        axis=0)\n",
    "    partial_train_targets = np.concatenate(\n",
    "        [Ytrn1[:i * num_val_samples],\n",
    "         Ytrn1[(i + 1) * num_val_samples:]],\n",
    "        axis=0)\n",
    "    model = build_model()\n",
    "    history = model.fit(partial_train_data, partial_train_targets,\n",
    "                        validation_data=(val_data, val_targets),\n",
    "                        epochs=num_epochs, batch_size=1, verbose=0)\n",
    "    mae_history = history.history['val_mae']\n",
    "    all_mae_histories.append(mae_history)"
   ]
  },
  {
   "cell_type": "code",
   "execution_count": 18,
   "id": "5f678829-b545-4c4c-a4e9-77b5433ce720",
   "metadata": {},
   "outputs": [
    {
     "data": {
      "image/png": "[encoded data removed]",
      "text/plain": [
       "<Figure size 640x480 with 1 Axes>"
      ]
     },
     "metadata": {},
     "output_type": "display_data"
    }
   ],
   "source": [
    "average_mae_history =[\n",
    "    np.mean([x[i] for x in all_mae_histories]) for i in range(num_epochs)\n",
    "]\n",
    "plt.plot(range(1, len(average_mae_history) + 1), average_mae_history)\n",
    "plt.xlabel('Epochs')\n",
    "plt.ylabel('Validation MAE')\n",
    "plt.show()"
   ]
  },
  {
   "cell_type": "code",
   "execution_count": 20,
   "id": "5f7bd704-6b94-4e56-8264-dbfb19adeb52",
   "metadata": {},
   "outputs": [
    {
     "data": {
      "image/png": "[encoded data removed]",
      "text/plain": [
       "<Figure size 640x480 with 1 Axes>"
      ]
     },
     "metadata": {},
     "output_type": "display_data"
    }
   ],
   "source": [
    "#Сглаживание графика\n",
    "def smooth_curve(points, factor=0.9):\n",
    "    smoothed_points = []\n",
    "    for point in points:\n",
    "        if smoothed_points:\n",
    "            previous = smoothed_points[-1]\n",
    "            smoothed_points.append(previous * factor + point * (1 - factor))\n",
    "        else:\n",
    "            smoothed_points.append(point)\n",
    "    return smoothed_points\n",
    "smooth_mae_history = smooth_curve(average_mae_history[10:])\n",
    "plt.plot(range(1, len(smooth_mae_history) + 1), smooth_mae_history)\n",
    "plt.xlabel('Epochs')\n",
    "plt.ylabel('Validation MAE')\n",
    "plt.show()"
   ]
  },
  {
   "cell_type": "code",
   "execution_count": 21,
   "id": "67822ce1-8d6d-49be-9dfd-446c29937c35",
   "metadata": {},
   "outputs": [
    {
     "name": "stdout",
     "output_type": "stream",
     "text": [
      "Epoch 1/30\n",
      "175/175 [==============================] - 0s 769us/step - loss: 0.0428 - mae: 0.1650\n",
      "Epoch 2/30\n",
      "175/175 [==============================] - 0s 799us/step - loss: 0.0393 - mae: 0.1586\n",
      "Epoch 3/30\n",
      "175/175 [==============================] - 0s 890us/step - loss: 0.0371 - mae: 0.1555\n",
      "Epoch 4/30\n",
      "175/175 [==============================] - 0s 806us/step - loss: 0.0348 - mae: 0.1485\n",
      "Epoch 5/30\n",
      "175/175 [==============================] - 0s 757us/step - loss: 0.0348 - mae: 0.1506\n",
      "Epoch 6/30\n",
      "175/175 [==============================] - 0s 784us/step - loss: 0.0339 - mae: 0.1494\n",
      "Epoch 7/30\n",
      "175/175 [==============================] - 0s 816us/step - loss: 0.0338 - mae: 0.1472\n",
      "Epoch 8/30\n",
      "175/175 [==============================] - 0s 825us/step - loss: 0.0340 - mae: 0.1487\n",
      "Epoch 9/30\n",
      "175/175 [==============================] - 0s 755us/step - loss: 0.0334 - mae: 0.1467\n",
      "Epoch 10/30\n",
      "175/175 [==============================] - 0s 759us/step - loss: 0.0334 - mae: 0.1473\n",
      "Epoch 11/30\n",
      "175/175 [==============================] - 0s 774us/step - loss: 0.0327 - mae: 0.1461\n",
      "Epoch 12/30\n",
      "175/175 [==============================] - 0s 748us/step - loss: 0.0330 - mae: 0.1460\n",
      "Epoch 13/30\n",
      "175/175 [==============================] - 0s 769us/step - loss: 0.0322 - mae: 0.1437\n",
      "Epoch 14/30\n",
      "175/175 [==============================] - 0s 759us/step - loss: 0.0319 - mae: 0.1447\n",
      "Epoch 15/30\n",
      "175/175 [==============================] - 0s 759us/step - loss: 0.0324 - mae: 0.1452\n",
      "Epoch 16/30\n",
      "175/175 [==============================] - 0s 759us/step - loss: 0.0323 - mae: 0.1440\n",
      "Epoch 17/30\n",
      "175/175 [==============================] - 0s 752us/step - loss: 0.0317 - mae: 0.1438\n",
      "Epoch 18/30\n",
      "175/175 [==============================] - 0s 782us/step - loss: 0.0318 - mae: 0.1446\n",
      "Epoch 19/30\n",
      "175/175 [==============================] - 0s 764us/step - loss: 0.0317 - mae: 0.1433\n",
      "Epoch 20/30\n",
      "175/175 [==============================] - 0s 760us/step - loss: 0.0313 - mae: 0.1420\n",
      "Epoch 21/30\n",
      "175/175 [==============================] - 0s 781us/step - loss: 0.0316 - mae: 0.1439\n",
      "Epoch 22/30\n",
      "175/175 [==============================] - 0s 796us/step - loss: 0.0317 - mae: 0.1434\n",
      "Epoch 23/30\n",
      "175/175 [==============================] - 0s 754us/step - loss: 0.0315 - mae: 0.1435\n",
      "Epoch 24/30\n",
      "175/175 [==============================] - 0s 764us/step - loss: 0.0315 - mae: 0.1426\n",
      "Epoch 25/30\n",
      "175/175 [==============================] - 0s 770us/step - loss: 0.0313 - mae: 0.1421\n",
      "Epoch 26/30\n",
      "175/175 [==============================] - 0s 782us/step - loss: 0.0311 - mae: 0.1422\n",
      "Epoch 27/30\n",
      "175/175 [==============================] - 0s 765us/step - loss: 0.0311 - mae: 0.1413\n",
      "Epoch 28/30\n",
      "175/175 [==============================] - 0s 768us/step - loss: 0.0313 - mae: 0.1422\n",
      "Epoch 29/30\n",
      "175/175 [==============================] - 0s 763us/step - loss: 0.0311 - mae: 0.1413\n",
      "Epoch 30/30\n",
      "175/175 [==============================] - 0s 759us/step - loss: 0.0313 - mae: 0.1417\n",
      "10/10 [==============================] - 0s 891us/step - loss: 0.0315 - mae: 0.1424\n"
     ]
    }
   ],
   "source": [
    "\n",
    "model= build_model()\n",
    "\n",
    "model.fit(Xtrn1, Ytrn1,\n",
    "         epochs=30, batch_size=4, verbose=1)\n",
    "test_mse_score, test_mae_score = model.evaluate(Xtest1, Ytest1)"
   ]
  },
  {
   "cell_type": "code",
   "execution_count": 22,
   "id": "5489289a-8c73-4ed5-8024-2b6063801f00",
   "metadata": {},
   "outputs": [
    {
     "data": {
      "text/plain": [
       "0.14237211644649506"
      ]
     },
     "execution_count": 22,
     "metadata": {},
     "output_type": "execute_result"
    }
   ],
   "source": [
    "test_mae_score"
   ]
  },
  {
   "cell_type": "code",
   "execution_count": 23,
   "id": "9dac447e-8c3f-4e19-8f61-18c6a0a8a1de",
   "metadata": {},
   "outputs": [
    {
     "name": "stdout",
     "output_type": "stream",
     "text": [
      "10/10 [==============================] - 0s 803us/step\n"
     ]
    },
    {
     "ename": "NameError",
     "evalue": "name 'error' is not defined",
     "output_type": "error",
     "traceback": [
      "\u001b[0;31m---------------------------------------------------------------------------\u001b[0m",
      "\u001b[0;31mNameError\u001b[0m                                 Traceback (most recent call last)",
      "Cell \u001b[0;32mIn[23], line 3\u001b[0m\n\u001b[1;32m      1\u001b[0m y_pred1 \u001b[38;5;241m=\u001b[39m model\u001b[38;5;241m.\u001b[39mpredict(Xtest1)\n\u001b[0;32m----> 3\u001b[0m \u001b[43merror\u001b[49m(y_pred1, Ytest1)\n\u001b[1;32m      4\u001b[0m Xtest1\n",
      "\u001b[0;31mNameError\u001b[0m: name 'error' is not defined"
     ]
    }
   ],
   "source": [
    "y_pred1 = model.predict(Xtest1)\n",
    "\n",
    "error(y_pred1, Ytest1)\n",
    "Xtest1"
   ]
  },
  {
   "cell_type": "code",
   "execution_count": null,
   "id": "4bf410d7-bfce-4352-bc67-a0a3c4e527be",
   "metadata": {},
   "outputs": [],
   "source": []
  }
 ],
 "metadata": {
  "kernelspec": {
   "display_name": "Python 3 (ipykernel)",
   "language": "python",
   "name": "python3"
  },
  "language_info": {
   "codemirror_mode": {
    "name": "ipython",
    "version": 3
   },
   "file_extension": ".py",
   "mimetype": "text/x-python",
   "name": "python",
   "nbconvert_exporter": "python",
   "pygments_lexer": "ipython3",
   "version": "3.10.13"
  }
 },
 "nbformat": 4,
 "nbformat_minor": 5
}
